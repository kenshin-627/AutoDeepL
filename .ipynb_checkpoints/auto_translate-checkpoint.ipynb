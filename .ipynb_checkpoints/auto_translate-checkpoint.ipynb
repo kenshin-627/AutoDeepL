{
 "cells": [
  {
   "cell_type": "code",
   "execution_count": 4,
   "id": "5ed619f3",
   "metadata": {},
   "outputs": [],
   "source": [
    "import pyperclip\n",
    "import deepl\n",
    "import settings\n",
    "\n",
    "auth_key = settings.AUTH_KEY\n",
    "text = pyperclip.paste().replace(\"\\n\", \" \")\n",
    "source_lang = \"EN\"\n",
    "target_lang = \"JA\"\n",
    "\n",
    "translator = deepl.Translator(auth_key)\n",
    "result = translator.translate_text(text, source_lang=source_lang, target_lang=target_lang)\n",
    "pyperclip.copy(result.text)\n",
    "\n",
    "while True:"
   ]
  },
  {
   "cell_type": "code",
   "execution_count": null,
   "id": "bf3dbf1e",
   "metadata": {},
   "outputs": [],
   "source": []
  }
 ],
 "metadata": {
  "kernelspec": {
   "display_name": "Python 3 (ipykernel)",
   "language": "python",
   "name": "python3"
  },
  "language_info": {
   "codemirror_mode": {
    "name": "ipython",
    "version": 3
   },
   "file_extension": ".py",
   "mimetype": "text/x-python",
   "name": "python",
   "nbconvert_exporter": "python",
   "pygments_lexer": "ipython3",
   "version": "3.9.6"
  }
 },
 "nbformat": 4,
 "nbformat_minor": 5
}
