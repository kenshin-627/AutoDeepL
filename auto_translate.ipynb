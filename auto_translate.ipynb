{
 "cells": [
  {
   "cell_type": "code",
   "execution_count": 4,
   "id": "5ed619f3",
   "metadata": {},
   "outputs": [
    {
     "name": "stdout",
     "output_type": "stream",
     "text": [
      "。\n",
      "\n",
      "2\n",
      "[1]\n",
      "\n",
      "る\n",
      "2\n",
      "[0]\n"
     ]
    }
   ],
   "source": [
    "import pyperclip\n",
    "import deepl\n",
    "import settings\n",
    "import re\n",
    "\n",
    "auth_key = settings.AUTH_KEY\n",
    "source_lang = \"EN\"\n",
    "target_lang = \"JA\"\n",
    "\n",
    "while True:\n",
    "    try:\n",
    "        # コピーされた英文のテキスト\n",
    "        text = pyperclip.waitForNewPaste(300)\n",
    "        # 改行のインデックスを取得\n",
    "        new_line_list = [i.start() for i in re.finditer(\"\\n\", text)]\n",
    "        # 改行の後に小文字があるかどうか\n",
    "        replace_index = []\n",
    "        # 改行の後に小文字がある場合、そのインデックスをリストに追加\n",
    "        for i in new_line_list:\n",
    "            # 改行が最後の文字の場合はスキップ\n",
    "            if len(text) <= i+1:\n",
    "                continue\n",
    "            if not text[i+1].isupper():\n",
    "                replace_index.append(i)\n",
    "        # 改行の後に小文字がある場合、改行をスペースに置き換える\n",
    "        new_text = \"\"\n",
    "        st = 0\n",
    "        for i in replace_index:\n",
    "            new_text += text[st:i] + \" \"\n",
    "            st = i+1\n",
    "        new_text += text[st:]\n",
    "        # 翻訳\n",
    "        translator = deepl.Translator(auth_key)\n",
    "        result = translator.translate_text(new_text, source_lang=source_lang, target_lang=target_lang)\n",
    "        # 翻訳結果をクリップボードにコピー\n",
    "        pyperclip.copy(result.text)\n",
    "    except pyperclip.PyperclipException:\n",
    "        print(\"5分間入力がないため終了します\")\n",
    "        break\n",
    "    except KeyboardInterrupt:\n",
    "        print(\"終了します\")\n",
    "        break"
   ]
  },
  {
   "cell_type": "code",
   "execution_count": null,
   "id": "bf3dbf1e",
   "metadata": {},
   "outputs": [],
   "source": []
  }
 ],
 "metadata": {
  "kernelspec": {
   "display_name": "Python 3",
   "language": "python",
   "name": "python3"
  },
  "language_info": {
   "codemirror_mode": {
    "name": "ipython",
    "version": 3
   },
   "file_extension": ".py",
   "mimetype": "text/x-python",
   "name": "python",
   "nbconvert_exporter": "python",
   "pygments_lexer": "ipython3",
   "version": "3.9.6"
  },
  "vscode": {
   "interpreter": {
    "hash": "aee8b7b246df8f9039afb4144a1f6fd8d2ca17a180786b69acc140d282b71a49"
   }
  }
 },
 "nbformat": 4,
 "nbformat_minor": 5
}
